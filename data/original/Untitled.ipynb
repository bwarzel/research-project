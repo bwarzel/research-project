{
 "cells": [
  {
   "cell_type": "code",
   "execution_count": null,
   "id": "f7a040d7-eab3-4940-b6e5-fada0c473332",
   "metadata": {},
   "outputs": [],
   "source": [
    "pd.merge(characters, metadata, on='script_id')"
   ]
  }
 ],
 "metadata": {
  "kernelspec": {
   "display_name": "Python [conda env:base] *",
   "language": "python",
   "name": "conda-base-py"
  },
  "language_info": {
   "codemirror_mode": {
    "name": "ipython",
    "version": 3
   },
   "file_extension": ".py",
   "mimetype": "text/x-python",
   "name": "python",
   "nbconvert_exporter": "python",
   "pygments_lexer": "ipython3",
   "version": "3.12.7"
  }
 },
 "nbformat": 4,
 "nbformat_minor": 5
}
