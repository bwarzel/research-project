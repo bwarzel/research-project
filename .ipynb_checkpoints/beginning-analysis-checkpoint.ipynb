{
 "cells": [
  {
   "cell_type": "markdown",
   "id": "c7259b2f-711a-4e47-9170-ff0608230704",
   "metadata": {},
   "source": [
    "Ben Warzel\n",
    "\n",
    "Looking at the data available from consumer surveys 2006-2020"
   ]
  },
  {
   "cell_type": "code",
   "execution_count": null,
   "id": "c7064e9d-e2a0-4b8e-befe-159fee62b59b",
   "metadata": {},
   "outputs": [],
   "source": []
  }
 ],
 "metadata": {
  "kernelspec": {
   "display_name": "Python [conda env:base] *",
   "language": "python",
   "name": "conda-base-py"
  },
  "language_info": {
   "codemirror_mode": {
    "name": "ipython",
    "version": 3
   },
   "file_extension": ".py",
   "mimetype": "text/x-python",
   "name": "python",
   "nbconvert_exporter": "python",
   "pygments_lexer": "ipython3",
   "version": "3.12.7"
  }
 },
 "nbformat": 4,
 "nbformat_minor": 5
}
