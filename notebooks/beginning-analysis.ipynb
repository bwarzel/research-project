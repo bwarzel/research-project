{
 "cells": [
  {
   "cell_type": "markdown",
   "id": "c7259b2f-711a-4e47-9170-ff0608230704",
   "metadata": {},
   "source": [
    "Ben Warzel\n",
    "\n",
    "Looking at the data available from consumer surveys 2006-2020"
   ]
  },
  {
   "cell_type": "code",
   "execution_count": 3,
   "id": "c7064e9d-e2a0-4b8e-befe-159fee62b59b",
   "metadata": {},
   "outputs": [],
   "source": [
    "import pandas as pd"
   ]
  },
  {
   "cell_type": "code",
   "execution_count": 22,
   "id": "bac85c28-2127-4fb1-a1f5-4d6c7700a979",
   "metadata": {},
   "outputs": [
    {
     "name": "stdout",
     "output_type": "stream",
     "text": [
      "(230, 8)\n",
      "(235, 9)\n",
      "  Average annual expenditures and characteristics of all consumer units, Consumer Expenditure Survey, 2006-2012  \\\n",
      "0                                                NaN                                                              \n",
      "1                                               Item                                                              \n",
      "2            Number of consumer units (in thousands)                                                              \n",
      "3                                                NaN                                                              \n",
      "4                     Consumer unit characteristics:                                                              \n",
      "\n",
      "  Unnamed: 1 Unnamed: 2  Unnamed: 3  Unnamed: 4  Unnamed: 5 Unnamed: 6  \\\n",
      "0        NaN        NaN         NaN         NaN         NaN        NaN   \n",
      "1       2006       2007      2008.0      2009.0      2010.0       2011   \n",
      "2     118843     120171    120770.0    120847.0    121107.0     122287   \n",
      "3        NaN        NaN         NaN         NaN         NaN        NaN   \n",
      "4        NaN        NaN         NaN         NaN         NaN        NaN   \n",
      "\n",
      "  Unnamed: 7  \n",
      "0        NaN  \n",
      "1       2012  \n",
      "2     124416  \n",
      "3        NaN  \n",
      "4        NaN  \n",
      "  Average annual expenditures and characteristics of all consumer units, Consumer Expenditure Surveys, 2013-2020  \\\n",
      "0                                                NaN                                                               \n",
      "1                                               Item                                                               \n",
      "2        Number of consumer units (in thousands) a/                                                                \n",
      "3                                                NaN                                                               \n",
      "4                     Consumer unit characteristics:                                                               \n",
      "\n",
      "  Unnamed: 1 Unnamed: 2 Unnamed: 3 Unnamed: 4 Unnamed: 5 Unnamed: 6  \\\n",
      "0        NaN        NaN        NaN        NaN        NaN        NaN   \n",
      "1       2013       2014       2015       2016       2017       2018   \n",
      "2     125670     127006     128437     129549     130001     131439   \n",
      "3        NaN        NaN        NaN        NaN        NaN        NaN   \n",
      "4        NaN        NaN        NaN        NaN        NaN        NaN   \n",
      "\n",
      "  Unnamed: 7 Unnamed: 8  \n",
      "0        NaN        NaN  \n",
      "1       2019       2020  \n",
      "2     132242     131234  \n",
      "3        NaN        NaN  \n",
      "4        NaN        NaN  \n"
     ]
    },
    {
     "name": "stderr",
     "output_type": "stream",
     "text": [
      "/opt/anaconda3/lib/python3.12/site-packages/openpyxl/styles/stylesheet.py:237: UserWarning: Workbook contains no default style, apply openpyxl's default\n",
      "  warn(\"Workbook contains no default style, apply openpyxl's default\")\n"
     ]
    }
   ],
   "source": [
    "# Load both sheets\n",
    "consumer1_df = pd.read_excel('../data/original/cu-all-multi-year-2006-2012.xlsx', sheet_name='Table')\n",
    "consumer2_df = pd.read_excel('../data/original/cu-all-multi-year-2013-2020.xlsx', sheet_name='Table')\n",
    "\n",
    "# View basic information\n",
    "print(consumer1_df.shape)  # Check number of rows and columns\n",
    "print(consumer2_df.shape)\n",
    "\n",
    "# Preview the data\n",
    "print(consumer1_df.head())\n",
    "print(consumer2_df.head())"
   ]
  },
  {
   "cell_type": "code",
   "execution_count": 26,
   "id": "88d4a28f-02b9-450f-b991-0d2f70735fc7",
   "metadata": {},
   "outputs": [],
   "source": [
    "money_df = pd.read_csv('../data/original/consumerspending-justmoney.csv')"
   ]
  },
  {
   "cell_type": "code",
   "execution_count": 32,
   "id": "76e11e69-3500-4116-9daf-23f5adb9edec",
   "metadata": {},
   "outputs": [
    {
     "data": {
      "text/plain": [
       "<bound method DataFrame.info of                                        Item     2006     2007     2008  \\\n",
       "0               Average Annual Expenditure   $48,400  $49,638  $50,486   \n",
       "1                                      Food    6,111    6,133    6,443   \n",
       "2                              Food at home    3,417    3,465    3,744   \n",
       "3               Cereals and bakery products      446      460      507   \n",
       "4               Cereals and cereal products      143      143      170   \n",
       "..                                      ...      ...      ...      ...   \n",
       "166                     Other entertainment       52       68       59   \n",
       "167  Personal care products and services d/       16       18       12   \n",
       "168                              Reading d/        1        1        1   \n",
       "169                               Education      210      283      324   \n",
       "170                      All other gifts d/       94       93       99   \n",
       "\n",
       "        2009     2010     2011     2012  \n",
       "0    $49,067  $48,109  $49,705  $51,442  \n",
       "1      6,372    6,129    6,458    6,599  \n",
       "2      3,753    3,624    3,838    3,921  \n",
       "3        506      502      531      538  \n",
       "4        173      165      175      182  \n",
       "..       ...      ...      ...      ...  \n",
       "166       57       58       67       54  \n",
       "167       12       13       15       16  \n",
       "168        1        1        2        2  \n",
       "169      229      221      216      260  \n",
       "170       76       80       91       71  \n",
       "\n",
       "[171 rows x 8 columns]>"
      ]
     },
     "execution_count": 32,
     "metadata": {},
     "output_type": "execute_result"
    }
   ],
   "source": [
    "money_df.info"
   ]
  },
  {
   "cell_type": "code",
   "execution_count": null,
   "id": "806d9efc-b07f-4383-af63-288a2b2b1023",
   "metadata": {},
   "outputs": [],
   "source": []
  }
 ],
 "metadata": {
  "kernelspec": {
   "display_name": "Python [conda env:base] *",
   "language": "python",
   "name": "conda-base-py"
  },
  "language_info": {
   "codemirror_mode": {
    "name": "ipython",
    "version": 3
   },
   "file_extension": ".py",
   "mimetype": "text/x-python",
   "name": "python",
   "nbconvert_exporter": "python",
   "pygments_lexer": "ipython3",
   "version": "3.12.7"
  }
 },
 "nbformat": 4,
 "nbformat_minor": 5
}
